{
  "nbformat": 4,
  "nbformat_minor": 0,
  "metadata": {
    "colab": {
      "provenance": []
    },
    "kernelspec": {
      "name": "python3",
      "display_name": "Python 3"
    },
    "language_info": {
      "name": "python"
    }
  },
  "cells": [
    {
      "cell_type": "markdown",
      "source": [
        "# ***Data Types and Structures Questions***"
      ],
      "metadata": {
        "id": "K83UpEGsKW7C"
      }
    },
    {
      "cell_type": "markdown",
      "source": [
        "1. What are data structures, and why are they important?\n",
        " - Data structures are ways of organizing and storing data in a computer to perform operations efficiently. They help you manage data, making tasks like searching, inserting, or deleting data faster.\n",
        "\n",
        "**Importance:**\n",
        "- **Efficiency**: They allow efficient data access and manipulation.\n",
        "- **Optimized Performance**: Choosing the right data structure can speed up programs.\n",
        "- **Memory Management**: Some structures use memory more efficiently than others.\n",
        "-  **Real-World Use**: They are used in databases, networks, and more.\n",
        "-  **Problem Solving**: They are essential for implementing algorithms and solving computational problems.\n",
        "\n",
        "In short, data structures help in organizing data so that you can perform tasks quickly and efficiently."
      ],
      "metadata": {
        "id": "AQL9I-JHKdd7"
      }
    },
    {
      "cell_type": "markdown",
      "source": [
        "2.  Explain the difference between mutable and immutable data types with examples\n",
        "- **Mutable Data Types**:  \n",
        "- Can be changed after creation.\n",
        "- **Example**: List (`[1, 2, 3]`), Dictionary (`{'a': 1, 'b': 2}`).\n",
        "\n",
        "**Immutable Data Types**:  \n",
        "- Cannot be changed after creation.\n",
        "- **Example**: String (`\"hello\"`), Tuple (`(1, 2, 3)`).\n",
        "\n",
        "In short, **mutable** can be modified, while **immutable** cannot."
      ],
      "metadata": {
        "id": "EqOQuP5SK6ki"
      }
    },
    {
      "cell_type": "markdown",
      "source": [
        "3. What are the main differences between lists and tuples in Python.\n",
        " - Here are the main differences between **lists** and **tuples** in Python:\n",
        "\n",
        "- **Mutability**:\n",
        "   - **List**: Mutable (can be changed).\n",
        "   - **Tuple**: Immutable (cannot be changed).\n",
        "\n",
        "- **Syntax**:\n",
        "   - **List**: Defined with square brackets `[]`.\n",
        "   - **Tuple**: Defined with parentheses `()`.\n",
        "\n",
        "- **Performance**:\n",
        "   - **List**: Slower (due to mutability).\n",
        "   - **Tuple**: Faster (since it's immutable).\n",
        "\n",
        "- **Use Case**:\n",
        "   - **List**: Used when you need to modify the data.\n",
        "   - **Tuple**: Used when the data should not change.\n",
        "\n"
      ],
      "metadata": {
        "id": "KZR9EcOoK_P7"
      }
    },
    {
      "cell_type": "markdown",
      "source": [
        "4. Describe how dictionaries store data?\n",
        "\n",
        " Dictionaries in Python store data as **key-value pairs**. Each pair consists of a **key**, which is a unique identifier, and a **value**, which is the data associated with that key. The key is used to retrieve the corresponding value.\n",
        "\n",
        "Dictionaries are implemented using **hashing**, where the key is passed through a hash function to generate a unique hash code. This hash code is used to determine where to store the value in memory, making lookups, insertions, and deletions very efficient.\n",
        "\n",
        "Key characteristics of dictionaries:\n",
        "- **Unordered**: The elements are not stored in a specific order (though order is preserved in Python 3.7+).\n",
        "-. **Keys are unique**: Each key must be unique, but the values can be duplicated.\n",
        "-  **Mutable**: You can add, modify, or remove key-value pairs after the dictionary is created.\n",
        "\n"
      ],
      "metadata": {
        "id": "y2uLsZAViHnZ"
      }
    },
    {
      "cell_type": "markdown",
      "source": [
        "5. Why might you use a set instead of a list in Python.\n",
        "\n",
        "  You might use a **set** instead of a **list** in Python for the following reasons:\n",
        "\n",
        "- **Uniqueness**: Sets automatically ensure that all elements are unique. If you want to store a collection of items and avoid duplicates, a set is ideal, while a list allows duplicates.\n",
        "\n",
        "- **Faster Membership Testing**: Checking if an element exists in a set is generally faster than in a list. This is because sets are implemented using hash tables, which provide constant-time complexity for lookups, while lists require linear-time searches.\n",
        "\n",
        "- **Mathematical Operations**: Sets support mathematical operations like **union**, **intersection**, **difference**, and **symmetric difference**, which are more naturally suited for sets than for lists.\n",
        "\n",
        "- **Performance**: Sets are more efficient than lists when it comes to operations like checking for membership, adding, or removing elements, especially with large datasets.\n",
        "\n"
      ],
      "metadata": {
        "id": "dOOzIm_QilTh"
      }
    },
    {
      "cell_type": "markdown",
      "source": [
        "6. What is a string in Python, and how is it different from a list.\n",
        "\n",
        "  A **string** in Python is a sequence of characters enclosed in either single quotes (`'`) or double quotes (`\"`). It is an **immutable** data type, meaning once a string is created, it cannot be modified (you can't change its individual characters after creation).\n",
        "\n",
        "### Key Characteristics of Strings:\n",
        "-  **Immutable**: You cannot change the contents of a string after it is created.\n",
        "-  **Ordered**: The characters in a string are ordered, and you can access each character using indexing.\n",
        "-  **Used for text**: Strings are primarily used to represent and manipulate text data.\n",
        "\n",
        "### Difference Between a String and a List:\n",
        "\n",
        " **Mutability**:\n",
        "   - **String**: Immutable (cannot be changed once created).\n",
        "   - **List**: Mutable (can be changed, elements can be added, removed, or modified).\n",
        "   \n",
        "\n",
        "**Data Type**:\n",
        "   - **String**: Represents a sequence of characters.\n",
        "   - **List**: Represents a sequence of any data type (e.g., numbers, strings, other lists, etc.).\n",
        "\n",
        "\n",
        "**Operations**:\n",
        "   - **String**: Supports operations related to text, like concatenation, slicing, and formatting.\n",
        "   - **List**: Supports operations related to managing collections, like appending, removing, or modifying elements.\n",
        "\n",
        "\n",
        "**Structure**:\n",
        "   - **String**: Contains only characters (text).\n",
        "   - **List**: Can contain a mixture of different data types (e.g., integers, strings, objects).\n",
        "\n"
      ],
      "metadata": {
        "id": "ZTb5pcw6jHM4"
      }
    },
    {
      "cell_type": "markdown",
      "source": [
        "7. How do tuples ensure data integrity in Python?\n",
        "\n",
        "  Tuples in Python ensure **data integrity** by being **immutable**. This immutability means that once a tuple is created, its contents cannot be changed—no elements can be added, removed, or modified. This guarantees that the data stored in a tuple remains constant throughout its lifetime, which helps prevent accidental modifications or errors in the program.\n",
        "\n",
        "### Key Ways Tuples Ensure Data Integrity:\n",
        "\n",
        "- **No Modification**: Since tuples are immutable, their data cannot be altered. This ensures that the data remains consistent and protected from accidental changes during execution.\n",
        "\n",
        "- **Safe for Use as Dictionary Keys**: Due to their immutability, tuples can be used as keys in dictionaries, whereas lists (which are mutable) cannot. This is important for cases where you need reliable and unchanging data to act as unique identifiers.\n",
        "\n",
        "- **Predictable Data**: Since the elements of a tuple cannot be changed, the program can always rely on the data in a tuple being exactly the same, ensuring predictable and stable behavior in the code.\n",
        "\n"
      ],
      "metadata": {
        "id": "B2O5e50ljplq"
      }
    },
    {
      "cell_type": "markdown",
      "source": [
        "8. What is a hash table, and how does it relate to dictionaries in Python?\n",
        "\n",
        "  A **hash table** is a data structure that stores data in key-value pairs. It uses a **hash function** to compute an index (or hash value) from the key, which determines where the corresponding value is stored in memory. This allows for fast lookups, insertions, and deletions, typically in constant time (O(1)).\n",
        "\n",
        "-  ***Key Concepts of Hash Tables*** :\n",
        "- **Key-Value Pairs**: Data is stored as pairs, with each key being unique and associated with a value.\n",
        "- **Hash Function**: A function that converts the key into a hash value, which is used as an index to store the value in the table.\n",
        "- **Collisions**: When two keys hash to the same index, a collision occurs. Techniques like **chaining** or **open addressing** are used to resolve collisions.\n",
        "- **Efficiency**: Hash tables offer fast data retrieval because they use the key’s hash value to directly access the location of the value.\n",
        "\n",
        "### Relation to Python Dictionaries:\n",
        "Python **dictionaries** are built using hash tables. When you store key-value pairs in a dictionary, Python hashes the key and stores the corresponding value at the computed index. This allows for fast retrieval, insertion, and deletion operations.\n",
        "\n"
      ],
      "metadata": {
        "id": "jf49WbZRj_O3"
      }
    },
    {
      "cell_type": "markdown",
      "source": [
        "9. Can lists contain different data types in Python?\n",
        "\n",
        "Yes, **lists** in Python can contain elements of different data types. A Python list is a **heterogeneous collection**, which means it can store values of various types, such as integers, strings, floats, booleans, and even other lists or objects. This flexibility allows you to mix data types within a single list.\n",
        "\n",
        "Since lists are **mutable**, you can modify, add, or remove elements, including those of different data types. This makes lists versatile and useful for a wide range of tasks where the data types might vary.\n",
        "\n"
      ],
      "metadata": {
        "id": "7GXYLAL0kaqn"
      }
    },
    {
      "cell_type": "markdown",
      "source": [
        "10. Explain why strings are immutable in Python?\n",
        " - Strings are **immutable** in Python to ensure **data integrity** and to allow for **optimization** in memory management.\n",
        "\n",
        "- ***Reasons for Immutability*** :\n",
        "\n",
        "1. **Efficiency in Memory Management**:\n",
        "   \n",
        "    When a string is created, Python allocates a fixed memory location for it. Since strings are immutable, Python can optimize memory usage by reusing the same memory location for identical strings. This reduces memory consumption and improves performance when multiple copies of the same string exist in a program.\n",
        "\n",
        "- **Data Integrity**:\n",
        "   - Immutability ensures that once a string is created, its value cannot be accidentally changed. This helps maintain the consistency and integrity of data throughout the program, avoiding unintended modifications.\n",
        "\n",
        "- **Hashing and Use in Dictionaries**:\n",
        "   - Strings are often used as keys in dictionaries. For a dictionary to work efficiently, the key must be hashable. Immutability guarantees that the string's hash value remains constant, making it a reliable key for dictionaries. If strings were mutable, their hash values could change, leading to inconsistent behavior when used as dictionary keys.\n",
        "\n",
        "- **Thread Safety**:\n",
        "   - Immutability makes strings inherently **thread-safe**. Since strings cannot be modified, they can be shared safely between multiple threads without the risk of one thread changing the string while another is using it.\n",
        "\n"
      ],
      "metadata": {
        "id": "JIGoUp7IkroP"
      }
    },
    {
      "cell_type": "markdown",
      "source": [
        "11. What advantages do dictionaries offer over lists for certain tasks?\n",
        "\n",
        " Dictionaries offer several advantages over lists for certain tasks due to their **key-value pairing**, **efficient lookup times**, and **optimized memory usage**. Here's a breakdown of these advantages:\n",
        "\n",
        " - **Faster Lookups**:\n",
        "   - **Dictionaries** provide **constant-time complexity (O(1))** for key lookups, meaning you can quickly retrieve a value associated with a key, regardless of the dictionary's size.\n",
        "   - **Lists**, on the other hand, require **linear-time complexity (O(n))** for searching for an element, which becomes inefficient as the list grows.\n",
        "\n",
        "- **Key-Value Pairing**:\n",
        "   - **Dictionaries** store data as key-value pairs, which makes them ideal for scenarios where you need to associate a unique key with a specific value. This is useful for tasks like:\n",
        "     - Storing user information (e.g., usernames and passwords)\n",
        "     - Mapping product IDs to product details\n",
        "   - **Lists** store elements in an ordered sequence but don't allow for direct association between individual elements like keys and values.\n",
        "\n",
        "- **No Duplicates for Keys**:\n",
        "   - In a **dictionary**, keys are unique, so you don't have to worry about duplicates. If you try to insert a duplicate key, the value for that key is simply updated.\n",
        "   - **Lists** allow duplicate elements, which can lead to confusion or errors when you need to ensure uniqueness in data.\n",
        "\n",
        "- **Efficient Deletion and Insertion**:\n",
        "   - **Dictionaries** offer efficient **insertions** and **deletions** for keys and values, making it easier to modify the collection dynamically.\n",
        "   - **Lists** can be inefficient when inserting or deleting elements, especially if the list is large, as it may require shifting elements to accommodate changes.\n",
        "- **Flexibility for Complex Data**:\n",
        "   - **Dictionaries** are often more suitable for representing complex relationships where each piece of data is identified by a unique key (such as associating names with addresses or product IDs with prices).\n",
        "   - **Lists** are better suited for storing simple sequences of ordered data but aren't designed for handling complex relationships where unique keys are needed.\n",
        "\n"
      ],
      "metadata": {
        "id": "wqFp2ZAPlBqw"
      }
    },
    {
      "cell_type": "markdown",
      "source": [
        "12. Describe a scenario where using a tuple would be preferable over a list?\n",
        "\n",
        " A **tuple** is preferable over a **list** in scenarios where **immutability**, **data integrity**, and **performance** are important. Here are some theoretical reasons why you might choose a tuple over a list:\n",
        "\n",
        "- **Immutability**:\n",
        "   - Tuples are **immutable**, meaning their elements cannot be modified after creation. This ensures that the data remains **constant** and **unchanged**, making tuples ideal for representing fixed collections of data that should not be altered during program execution.\n",
        "   - For example, tuples are useful for representing things like coordinates, fixed settings, or constant values that should not be modified.\n",
        "\n",
        "- **Data Integrity**:\n",
        "   - Since tuples cannot be altered, they help maintain **data integrity**. When you need to guarantee that a collection of data will remain consistent and not be accidentally modified, tuples provide a safe option.\n",
        "   - This makes tuples useful for representing things like configuration settings, values that should remain constant throughout the program, or grouping related data together that must not change.\n",
        "\n",
        "- **Performance**:\n",
        "   - Tuples are generally **more memory-efficient** and **faster** than lists because of their immutability. As a result, they are a better choice when working with large datasets that do not require modification, leading to both better **memory usage** and **execution speed**.\n",
        "   - For example, tuples can be used in situations where large, fixed collections of data need to be accessed quickly, without the need to modify the contents.\n",
        "\n",
        "-  **Usage as Dictionary Keys**:\n",
        "   - Tuples can be used as **keys in dictionaries**, unlike lists, because they are **hashable**. This makes tuples ideal when you need to use a combination of multiple values as a key for a dictionary.\n",
        "   - For example, tuples are often used to represent multiple attributes (like a combination of latitude and longitude) as a unique key in a dictionary.\n",
        "\n",
        "-  **Grouping Fixed Data**:\n",
        "   - Tuples are ideal when you want to group related data that should not be modified together. Since the data is immutable, there is no risk of accidental changes.\n",
        "   - For example, tuples can represent fixed records, like a student's name, age, and grade, which should remain consistent throughout the program.\n",
        "\n"
      ],
      "metadata": {
        "id": "Dq3wXEnulfzQ"
      }
    },
    {
      "cell_type": "markdown",
      "source": [
        "13. How do sets handle duplicate values in Python?\n",
        "\n",
        "  In Python, sets automatically handle duplicate values by ensuring that each element in the set is unique. This means that when you attempt to add a duplicate element to a set, it will not be stored again. The set only allows one instance of each value, and any subsequent attempts to add the same value are ignored.\n",
        "\n",
        "Key Concepts:\n",
        "Uniqueness: Sets automatically eliminate duplicates. If an element is already present in the set, adding it again has no effect.\n",
        "\n",
        "No Duplicates Allowed: The primary property of sets is that they do not store duplicate elements. This makes sets ideal for tasks where you need to store a collection of unique items, such as when tracking distinct items or counting unique occurrences.\n",
        "\n",
        "Efficient Membership Testing: Since sets are optimized for fast membership testing, checking if a value exists in a set is quicker than checking in a list. This contributes to their efficiency in handling duplicates.\n",
        "\n",
        "No Ordering: Unlike lists, sets are unordered, meaning the elements do not maintain a specific sequence. Therefore, even though duplicate values are ignored, the internal arrangement of elements might not be predictable.\n",
        "\n",
        "Example:\n",
        "If you attempt to add a duplicate element to a set:\n",
        "\n"
      ],
      "metadata": {
        "id": "uIxEWMzBmVJB"
      }
    },
    {
      "cell_type": "code",
      "source": [
        "my_set = {1, 2, 3}\n",
        "my_set.add(2)  # Adding a duplicate element\n",
        "print(my_set)  # Output: {1, 2, 3}\n"
      ],
      "metadata": {
        "colab": {
          "base_uri": "https://localhost:8080/"
        },
        "id": "MaH-cBT_m-Gf",
        "outputId": "a6a24cc7-190b-4ac9-a59c-8bbf8e29a7c1"
      },
      "execution_count": null,
      "outputs": [
        {
          "output_type": "stream",
          "name": "stdout",
          "text": [
            "{1, 2, 3}\n"
          ]
        }
      ]
    },
    {
      "cell_type": "markdown",
      "source": [
        "14. How does the “in” keyword work differently for lists and dictionaries?\n",
        "\n",
        " The in keyword in Python is used to check for membership, but its behavior differs between lists and dictionaries due to the way these data structures are organized.\n",
        "\n",
        "- in with Lists:\n",
        "When used with a list, the in keyword checks if a specific element is present in the list. It iterates through the list and returns True if the element exists, and False if it does not.\n",
        "The in keyword checks for the existence of the value in the list, not the index or the position.\n",
        "Example:"
      ],
      "metadata": {
        "id": "KRdyw_07nKJ4"
      }
    },
    {
      "cell_type": "code",
      "source": [
        "my_list = [1, 2, 3, 4]\n",
        "print(3 in my_list)  # Output: True\n",
        "print(5 in my_list)  # Output: False\n"
      ],
      "metadata": {
        "colab": {
          "base_uri": "https://localhost:8080/"
        },
        "id": "-Uzi3nOAnhDp",
        "outputId": "2c5ac46a-308a-488d-d3cf-c6d5f222a28d"
      },
      "execution_count": null,
      "outputs": [
        {
          "output_type": "stream",
          "name": "stdout",
          "text": [
            "True\n",
            "False\n"
          ]
        }
      ]
    },
    {
      "cell_type": "markdown",
      "source": [
        "- in with Dictionaries:\n",
        "When used with a dictionary, the in keyword checks for the presence of a key, not a value. It checks if a specific key exists in the dictionary, not whether a particular value is associated with a key.\n",
        "If you want to check if a value exists in a dictionary, you would have to explicitly use the .values() method or perform other operations.\n",
        "Example (Checking for Keys):"
      ],
      "metadata": {
        "id": "vwc0jD8anlqv"
      }
    },
    {
      "cell_type": "code",
      "source": [
        "my_dict = {'a': 1, 'b': 2, 'c': 3}\n",
        "print('a' in my_dict)  # Output: True\n",
        "print('d' in my_dict)  # Output: False\n"
      ],
      "metadata": {
        "colab": {
          "base_uri": "https://localhost:8080/"
        },
        "id": "Kh6qdn7xnqTv",
        "outputId": "59cbe034-db30-4d80-ac99-88c1dea5651c"
      },
      "execution_count": null,
      "outputs": [
        {
          "output_type": "stream",
          "name": "stdout",
          "text": [
            "True\n",
            "False\n"
          ]
        }
      ]
    },
    {
      "cell_type": "markdown",
      "source": [
        "Example (Checking for Values):"
      ],
      "metadata": {
        "id": "jfzDL_Opny2P"
      }
    },
    {
      "cell_type": "code",
      "source": [
        "print(2 in my_dict.values())  # Output: True\n",
        "print(4 in my_dict.values())  # Output: False\n"
      ],
      "metadata": {
        "colab": {
          "base_uri": "https://localhost:8080/"
        },
        "id": "pjaneptIn2aG",
        "outputId": "937cc4c6-b549-41b0-a6db-1ded10d03dd6"
      },
      "execution_count": null,
      "outputs": [
        {
          "output_type": "stream",
          "name": "stdout",
          "text": [
            "True\n",
            "False\n"
          ]
        }
      ]
    },
    {
      "cell_type": "markdown",
      "source": [
        "15. Can you modify the elements of a tuple? Explain why or why not?\n",
        "\n",
        "  No, you cannot modify the elements of a tuple in Python.\n",
        "\n",
        "Reason:\n",
        "\n",
        "Immutability: Tuples are immutable data structures, meaning once a tuple is created, its contents cannot be changed, added to, or removed. This immutability ensures that the data remains constant throughout the program.\n",
        "\n",
        "Element Assignment: If you try to assign a new value to an element of a tuple, Python will raise a TypeError.\n",
        "\n",
        "Example:"
      ],
      "metadata": {
        "id": "rPuvS9bCn8bH"
      }
    },
    {
      "cell_type": "code",
      "source": [
        "my_tuple = (1, 2, 3)\n",
        "my_tuple[1] = 4  # This will raise a TypeError\n"
      ],
      "metadata": {
        "id": "iSUS-71koYEv"
      },
      "execution_count": null,
      "outputs": []
    },
    {
      "cell_type": "markdown",
      "source": [
        "Why Tuples are Immutable:\n",
        "\n",
        "Data Integrity: Immutability ensures that the data inside a tuple cannot be altered accidentally, preserving its integrity.\n",
        "Performance: Since tuples are immutable, they require less memory and can be optimized for faster access, making them suitable for use in cases where the data should remain constant (e.g., as keys in dictionaries).\n",
        "Hashability: Tuples are hashable, meaning they can be used as keys in dictionaries. For an object to be hashable, its contents must remain constant, which is why tuples are immutable."
      ],
      "metadata": {
        "id": "AaFDcQlRocVA"
      }
    },
    {
      "cell_type": "markdown",
      "source": [
        "16. What is a nested dictionary, and give an example of its use case?\n",
        "\n",
        " A nested dictionary is a dictionary where the values associated with keys are themselves dictionaries. This allows you to store hierarchical or multi-level data, making it useful for organizing complex data structures.\n",
        "\n",
        "Use Case:\n",
        "\n",
        "A nested dictionary is commonly used when you need to represent real-world entities that have multiple attributes or categories. For example, a nested dictionary could be used to store information about multiple employees, where each employee has their own details like name, age, and department, with each of those details being stored as a dictionary.\n",
        "\n",
        "Example:\n",
        "Let's say you are building a system to store employee information:"
      ],
      "metadata": {
        "id": "leo1ZnHbohSv"
      }
    },
    {
      "cell_type": "code",
      "source": [
        "employees = {\n",
        "    'E001': {'name': 'Alice', 'age': 30, 'department': 'HR'},\n",
        "    'E002': {'name': 'Bob', 'age': 25, 'department': 'Engineering'},\n",
        "    'E003': {'name': 'Charlie', 'age': 35, 'department': 'Finance'}\n",
        "}\n",
        "\n",
        "# Accessing data in a nested dictionary\n",
        "print(employees['E001']['name'])  # Output: Alice\n",
        "print(employees['E002']['department'])  # Output: Engineering\n"
      ],
      "metadata": {
        "colab": {
          "base_uri": "https://localhost:8080/"
        },
        "id": "I87JUDfGpEb3",
        "outputId": "d5e24302-5d3e-4d86-b0eb-13921760fbb8"
      },
      "execution_count": null,
      "outputs": [
        {
          "output_type": "stream",
          "name": "stdout",
          "text": [
            "Alice\n",
            "Engineering\n"
          ]
        }
      ]
    },
    {
      "cell_type": "markdown",
      "source": [
        "Use Case Example:\n",
        "\n",
        "Student Information: You could store information about multiple students, where each student's details are stored in a nested dictionary.\n",
        "Product Inventory: You could use nested dictionaries to store product details, where each product's attributes (like price, stock, category) are stored in inner dictionaries."
      ],
      "metadata": {
        "id": "kWKPq_FEpIYg"
      }
    },
    {
      "cell_type": "markdown",
      "source": [
        "17. Describe the time complexity of accessing elements in a dictionary?\n",
        "\n",
        " The time complexity of accessing elements in a **dictionary** in Python is **O(1)**, also known as **constant time**.\n",
        "\n",
        "### Explanation:\n",
        "- **Dictionaries** in Python are implemented using **hash tables**. When you access an element by its key, Python uses the hash value of the key to quickly locate the corresponding value in the table.\n",
        "- The **hashing function** computes the hash code of the key, which allows Python to directly access the value associated with that key, without needing to search through the entire dictionary.\n",
        "  \n",
        "This results in **constant-time access**, meaning the time it takes to retrieve a value from a dictionary is not dependent on the number of elements in the dictionary.\n",
        "\n",
        "### Best-Case Scenario:\n",
        "- **O(1)**: In the best case, accessing an element by key is an **instantaneous** operation because the hash table is structured to provide direct access to the data using the key's hash.\n",
        "\n",
        "### Worst-Case Scenario:\n",
        "- **O(n)**: In rare situations (such as when there are hash collisions), the dictionary may need to search through a list of keys with the same hash value, resulting in **linear time complexity (O(n))**. However, Python's hashing algorithm and collision resolution techniques (like chaining or open addressing) are designed to minimize this risk, so the worst-case scenario is rare.\n",
        "\n"
      ],
      "metadata": {
        "id": "HQPiasompS9m"
      }
    },
    {
      "cell_type": "markdown",
      "source": [
        "18. In what situations are lists preferred over dictionaries?\n",
        "\n",
        " Lists are preferred over dictionaries in the following situations:\n",
        "\n",
        "- Ordered Collections:\n",
        "When you need to maintain the order of elements, such as when you are working with sequences where the order of insertion is important (e.g., for tasks like sorting or iterating over the elements in a specific order).\n",
        "\n",
        "Example: A list of student names sorted by their exam scores.\n",
        "\n"
      ],
      "metadata": {
        "id": "keR4jvcUphhQ"
      }
    },
    {
      "cell_type": "code",
      "source": [
        "student_scores = ['Alice', 'Bob', 'Charlie']\n"
      ],
      "metadata": {
        "id": "1Yce9ameqCfG"
      },
      "execution_count": null,
      "outputs": []
    },
    {
      "cell_type": "markdown",
      "source": [
        "- Indexed by Position:\n",
        "When you need to access elements based on their position or index in the collection, such as accessing the 5th element in a list.\n",
        "Lists allow you to use indices to access specific elements, which is useful for operations like slicing and iterating by position.\n",
        "\n",
        "Example:"
      ],
      "metadata": {
        "id": "o9Jw7cC1qFlv"
      }
    },
    {
      "cell_type": "code",
      "source": [
        "numbers = [10, 20, 30, 40]\n",
        "print(numbers[2])  # Output: 30\n"
      ],
      "metadata": {
        "colab": {
          "base_uri": "https://localhost:8080/"
        },
        "id": "hMhO83eSqKGH",
        "outputId": "d4262b4a-6996-4070-e723-e0c46f211031"
      },
      "execution_count": null,
      "outputs": [
        {
          "output_type": "stream",
          "name": "stdout",
          "text": [
            "30\n"
          ]
        }
      ]
    },
    {
      "cell_type": "markdown",
      "source": [
        "- Homogeneous Data:\n",
        "When the collection consists of elements of the same type or when you don't need to associate keys with values (as in the case with dictionaries), lists are a simpler, more efficient choice.\n",
        "\n",
        "Example: A list of temperatures recorded throughout the day.\n",
        "\n"
      ],
      "metadata": {
        "id": "SZa_B20vqMWA"
      }
    },
    {
      "cell_type": "code",
      "source": [
        "temperatures = [22, 25, 30, 28, 20]\n"
      ],
      "metadata": {
        "id": "MOlBhmM1qWHG"
      },
      "execution_count": null,
      "outputs": []
    },
    {
      "cell_type": "markdown",
      "source": [
        "- Dynamic Data Structure:\n",
        "When you need a dynamic collection that can grow or shrink in size, lists are suitable because they provide methods like .append(), .remove(), .pop(), etc., to modify the collection easily.\n",
        "\n",
        "Example:\n",
        "\n",
        "\n"
      ],
      "metadata": {
        "id": "A9xYsjR1qa_2"
      }
    },
    {
      "cell_type": "code",
      "source": [
        "my_list = [1, 2, 3]\n",
        "my_list.append(4)  # Adding an element to the list\n"
      ],
      "metadata": {
        "id": "OJkSmQQhqhMX"
      },
      "execution_count": null,
      "outputs": []
    },
    {
      "cell_type": "markdown",
      "source": [
        "- When Duplicate Values Are Allowed:\n",
        "Lists allow duplicate values, so they are ideal when you need to store repeated items or when duplicates are valid in the context of your data.\n",
        "\n",
        "Example:"
      ],
      "metadata": {
        "id": "Lg6njUZAqjSd"
      }
    },
    {
      "cell_type": "code",
      "source": [
        "colors = ['red', 'green', 'blue', 'red']\n"
      ],
      "metadata": {
        "id": "WwFcAzTUqnzO"
      },
      "execution_count": null,
      "outputs": []
    },
    {
      "cell_type": "markdown",
      "source": [
        "- When Random Access is Not Needed:\n",
        "When you don’t need key-based access or direct lookups (like those in dictionaries), lists are sufficient because they are optimized for sequential access.\n",
        "\n",
        "Example:"
      ],
      "metadata": {
        "id": "GZI-q4AGqp3H"
      }
    },
    {
      "cell_type": "code",
      "source": [
        "fruits = ['apple', 'banana', 'cherry']\n"
      ],
      "metadata": {
        "id": "WUIhvME7qwFO"
      },
      "execution_count": null,
      "outputs": []
    },
    {
      "cell_type": "markdown",
      "source": [
        "19.  Why are dictionaries considered unordered, and how does that affect data retrieval?\n",
        "\n",
        " Dictionaries are considered unordered because, in the traditional implementation of dictionaries (especially in Python prior to version 3.7), the elements (key-value pairs) don't have a specific order in which they are stored or retrieved. The keys in a dictionary are hashed to unique memory locations, and the internal structure of the dictionary is optimized for fast lookups, but not for maintaining any particular order of the items.\n",
        "\n",
        "### How does this affect data retrieval?\n",
        "1. **Order of Items**: Since dictionaries don't maintain the order of the key-value pairs (before Python 3.7), when you iterate over the dictionary, the order in which items are retrieved can appear unpredictable. You cannot rely on the dictionary to return items in the same order they were added.\n",
        "   \n",
        "2. **Efficiency in Lookup**: Even though dictionaries are unordered, their primary strength is fast access to values based on their keys. This is because dictionaries are implemented using hash tables. When you look up a key in a dictionary, it is an average \\( O(1) \\) operation, meaning it is fast and efficient. The lack of order doesn’t affect this efficiency.\n",
        "\n",
        "### Changes from Python 3.7+:\n",
        "In Python 3.7 and later, dictionaries are guaranteed to maintain insertion order. While they are still considered unordered in a strict technical sense (because the order is not part of the specification for their use), from a practical standpoint, they will preserve the order in which elements were inserted. This change has made dictionaries feel more \"ordered\" in terms of how they behave when iterated over.\n",
        "\n",
        "But still, **the retrieval performance is what truly defines how dictionaries are used**. So, the main takeaway is that dictionaries are primarily designed for fast lookups and not for ordering or sorting items."
      ],
      "metadata": {
        "id": "A9X7PvKfq1ZW"
      }
    },
    {
      "cell_type": "markdown",
      "source": [
        "20.  Explain the difference between a list and a dictionary in terms of data.\n",
        "\n",
        "The main difference between a list and a dictionary in terms of data retrieval lies in how they store and access data:\n",
        "\n",
        "1. Data Structure\n",
        "List: A list is an ordered collection of items, where each item is assigned an index (position) starting from 0. Items are stored in a specific sequence.\n",
        "\n",
        "Example: my_list = [10, 20, 30]\n",
        "The first item is accessed by my_list[0], the second by my_list[1], and so on.\n",
        "Dictionary: A dictionary is an unordered collection of key-value pairs. Each key is unique, and it maps to a specific value. Data is accessed by referencing the key, not an index.\n",
        "\n",
        "Example: my_dict = {'a': 10, 'b': 20, 'c': 30}\n",
        "The value for the key 'a' is accessed by my_dict['a'].\n",
        "2. Data Retrieval\n",
        "List:\n",
        "\n",
        "Access by Index: You retrieve data from a list by its index. For example, my_list[0] retrieves the first item. This is an integer-based access.\n",
        "Order-based: Lists maintain the order of insertion, so the items are always returned in the same sequence unless explicitly changed (e.g., by sorting).\n",
        "Example:\n"
      ],
      "metadata": {
        "id": "UTK6JtpovZmt"
      }
    },
    {
      "cell_type": "code",
      "source": [
        "my_list = [10, 20, 30]\n",
        "print(my_list[1])  # Outputs: 20\n"
      ],
      "metadata": {
        "colab": {
          "base_uri": "https://localhost:8080/"
        },
        "id": "GdNFFBppv8PV",
        "outputId": "8cf1a3a1-ce91-4910-b979-131468491eba"
      },
      "execution_count": null,
      "outputs": [
        {
          "output_type": "stream",
          "name": "stdout",
          "text": [
            "20\n"
          ]
        }
      ]
    },
    {
      "cell_type": "markdown",
      "source": [
        "Dictionary:\n",
        "\n",
        "Access by Key: Data in a dictionary is accessed using keys, not indices. For example, my_dict['a'] retrieves the value associated with the key 'a'.\n",
        "No Indexing: Dictionaries don't use a numeric index for retrieval. Instead, they use a unique hash value associated with each key, which allows for fast lookups.\n",
        "No Defined Order (in versions prior to 3.7): In earlier versions of Python, dictionaries were unordered, meaning you couldn’t rely on the order of the key-value pairs. However, from Python 3.7 onwards, dictionaries maintain insertion order.\n",
        "Example:"
      ],
      "metadata": {
        "id": "vAX8cIkSwBgU"
      }
    },
    {
      "cell_type": "code",
      "source": [
        "my_dict = {'a': 10, 'b': 20, 'c': 30}\n",
        "print(my_dict['b'])  # Outputs: 20\n"
      ],
      "metadata": {
        "colab": {
          "base_uri": "https://localhost:8080/"
        },
        "id": "YZIskPB7wD4M",
        "outputId": "0cf34b55-4356-45a2-a8ea-4a317db8a248"
      },
      "execution_count": null,
      "outputs": [
        {
          "output_type": "stream",
          "name": "stdout",
          "text": [
            "20\n"
          ]
        }
      ]
    },
    {
      "cell_type": "markdown",
      "source": [
        "3. Performance\n",
        "List:\n",
        "\n",
        "Access Time: Retrieving an item from a list by index is very fast and is an O(1) operation. However, if you need to search for an item by value (not index), it can take O(n) time because you may need to scan through the entire list.\n",
        "Sequential Search: If the list doesn't have the item at a given index, or if you’re searching for an item by value, the process involves a sequential search.\n",
        "Dictionary:\n",
        "\n",
        "Access Time: Dictionaries provide O(1) average time complexity for data retrieval based on the key. This is because dictionary lookups are optimized using hash tables, which allow direct access to the value associated with a key.\n",
        "Fast Lookups: Since the dictionary uses keys that are hashed to a specific location, retrieval is much faster compared to searching through a list for a value.\n",
        "4. Use Cases\n",
        "List:\n",
        "\n",
        "Best used when you need to maintain an ordered collection of items, or when you will be accessing data by index.\n",
        "Example: Storing a series of items where their position matters, such as a list of students in a class.\n",
        "Dictionary:\n",
        "\n",
        "Best used when you need to quickly access data using unique identifiers (keys) and do not need to maintain a strict order of items.\n",
        "Example: Storing user information where each user has a unique ID (key) and associated data (value)."
      ],
      "metadata": {
        "id": "XUd9tfkJwFDG"
      }
    },
    {
      "cell_type": "markdown",
      "source": [
        "***Practical Questions***"
      ],
      "metadata": {
        "id": "Tn-UVukFwQKH"
      }
    },
    {
      "cell_type": "markdown",
      "source": [
        "1. Write a code to create a string with your name and print it.\n"
      ],
      "metadata": {
        "id": "FpNDY7A4wYTe"
      }
    },
    {
      "cell_type": "code",
      "source": [
        "# Create a string with my name\n",
        "my_name = \"hello\"\n",
        "\n",
        "# Print the string\n",
        "print(my_name)\n"
      ],
      "metadata": {
        "colab": {
          "base_uri": "https://localhost:8080/"
        },
        "id": "mPERssvVwdGO",
        "outputId": "469591e2-956c-4c72-cade-cae0bbc83367"
      },
      "execution_count": null,
      "outputs": [
        {
          "output_type": "stream",
          "name": "stdout",
          "text": [
            "hello\n"
          ]
        }
      ]
    },
    {
      "cell_type": "markdown",
      "source": [
        "2. Write a code to find the length of the string \"Hello World\".\n"
      ],
      "metadata": {
        "id": "YitpqsmUwp3e"
      }
    },
    {
      "cell_type": "code",
      "source": [
        "# Define the string\n",
        "my_string = \"Hello World\"\n",
        "\n",
        "# Find the length of the string\n",
        "length_of_string = len(my_string)\n",
        "\n",
        "# Print the length\n",
        "print(length_of_string)\n"
      ],
      "metadata": {
        "colab": {
          "base_uri": "https://localhost:8080/"
        },
        "id": "LHTKKbuXw0wl",
        "outputId": "eb779a5c-b596-4d50-d9fa-b4fcadc3dde8"
      },
      "execution_count": null,
      "outputs": [
        {
          "output_type": "stream",
          "name": "stdout",
          "text": [
            "11\n"
          ]
        }
      ]
    },
    {
      "cell_type": "markdown",
      "source": [
        "3. Write a code to slice the first 3 characters from the string \"Python Programming\".\n"
      ],
      "metadata": {
        "id": "9gH7Ie09w4Es"
      }
    },
    {
      "cell_type": "code",
      "source": [
        "# Define the string\n",
        "my_string = \"Python Programming\"\n",
        "\n",
        "# Slice the first 3 characters\n",
        "sliced_string = my_string[:3]\n",
        "\n",
        "# Print the sliced string\n",
        "print(sliced_string)\n"
      ],
      "metadata": {
        "colab": {
          "base_uri": "https://localhost:8080/"
        },
        "id": "biMViOzZw9st",
        "outputId": "63659fe9-5101-4702-d31d-96251e49b98e"
      },
      "execution_count": null,
      "outputs": [
        {
          "output_type": "stream",
          "name": "stdout",
          "text": [
            "Pyt\n"
          ]
        }
      ]
    },
    {
      "cell_type": "markdown",
      "source": [
        "4. Write a code to convert the string \"hello\" to uppercase.\n"
      ],
      "metadata": {
        "id": "rSkI6tk2xCFU"
      }
    },
    {
      "cell_type": "code",
      "source": [
        "# Define the string\n",
        "my_string = \"hello\"\n",
        "\n",
        "# Convert the string to uppercase\n",
        "uppercase_string = my_string.upper()\n",
        "\n",
        "# Print the uppercase string\n",
        "print(uppercase_string)\n"
      ],
      "metadata": {
        "colab": {
          "base_uri": "https://localhost:8080/"
        },
        "id": "4RhOCyeyxIrH",
        "outputId": "527abcb4-20e0-4c3b-8f89-cc3d3ddd6f95"
      },
      "execution_count": null,
      "outputs": [
        {
          "output_type": "stream",
          "name": "stdout",
          "text": [
            "HELLO\n"
          ]
        }
      ]
    },
    {
      "cell_type": "markdown",
      "source": [
        "5.  Write a code to replace the word \"apple\" with \"orange\" in the string \"I like apple\".\n"
      ],
      "metadata": {
        "id": "6-HnYsjBxN7V"
      }
    },
    {
      "cell_type": "code",
      "source": [
        "# Define the string\n",
        "my_string = \"I like apple\"\n",
        "\n",
        "# Replace \"apple\" with \"orange\"\n",
        "modified_string = my_string.replace(\"apple\", \"orange\")\n",
        "\n",
        "# Print the modified string\n",
        "print(modified_string)\n"
      ],
      "metadata": {
        "colab": {
          "base_uri": "https://localhost:8080/"
        },
        "id": "NTe1Oqk-xmy9",
        "outputId": "51412404-013c-43e7-c498-cc5a368199f9"
      },
      "execution_count": null,
      "outputs": [
        {
          "output_type": "stream",
          "name": "stdout",
          "text": [
            "I like orange\n"
          ]
        }
      ]
    },
    {
      "cell_type": "markdown",
      "source": [
        "6. Write a code to create a list with numbers 1 to 5 and print it.\n"
      ],
      "metadata": {
        "id": "6LmqcUSRx7ZM"
      }
    },
    {
      "cell_type": "code",
      "source": [
        "# Create a list with numbers 1 to 5\n",
        "my_list = [1, 2, 3, 4, 5]\n",
        "\n",
        "# Print the list\n",
        "print(my_list)\n"
      ],
      "metadata": {
        "colab": {
          "base_uri": "https://localhost:8080/"
        },
        "id": "mhm8QVwbyByz",
        "outputId": "b2eafcb2-2622-4785-d06d-47e51b616847"
      },
      "execution_count": null,
      "outputs": [
        {
          "output_type": "stream",
          "name": "stdout",
          "text": [
            "[1, 2, 3, 4, 5]\n"
          ]
        }
      ]
    },
    {
      "cell_type": "markdown",
      "source": [
        "7. Write a code to append the number 10 to the list [1, 2, 3, 4]."
      ],
      "metadata": {
        "id": "leexUz0XyGOL"
      }
    },
    {
      "cell_type": "code",
      "source": [
        "# Define the list\n",
        "my_list = [1, 2, 3, 4]\n",
        "\n",
        "# Append the number 10 to the list\n",
        "my_list.append(10)\n",
        "\n",
        "# Print the updated list\n",
        "print(my_list)\n"
      ],
      "metadata": {
        "colab": {
          "base_uri": "https://localhost:8080/"
        },
        "id": "yCY-XN0ZyNek",
        "outputId": "b723399f-eaaa-48dd-df0e-58dded0b95b0"
      },
      "execution_count": null,
      "outputs": [
        {
          "output_type": "stream",
          "name": "stdout",
          "text": [
            "[1, 2, 3, 4, 10]\n"
          ]
        }
      ]
    },
    {
      "cell_type": "markdown",
      "source": [
        "8. Write a code to remove the number 3 from the list [1, 2, 3, 4, 5]?\n"
      ],
      "metadata": {
        "id": "K9Fw9tPfec87"
      }
    },
    {
      "cell_type": "code",
      "source": [
        "# Original list\n",
        "my_list = [1, 2, 3, 4, 5]\n",
        "\n",
        "# Remove the number 3\n",
        "my_list.remove(3)\n",
        "\n",
        "# Print the modified list\n",
        "print(my_list)\n"
      ],
      "metadata": {
        "colab": {
          "base_uri": "https://localhost:8080/"
        },
        "id": "ByetpP_be67t",
        "outputId": "1aa5c655-cd02-4736-834a-c809ad738328"
      },
      "execution_count": 1,
      "outputs": [
        {
          "output_type": "stream",
          "name": "stdout",
          "text": [
            "[1, 2, 4, 5]\n"
          ]
        }
      ]
    },
    {
      "cell_type": "markdown",
      "source": [
        "9. Write a code to access the second element in the list ['a', 'b', 'c', 'd']."
      ],
      "metadata": {
        "id": "3E0LtyPBfLDd"
      }
    },
    {
      "cell_type": "code",
      "source": [
        "# List\n",
        "my_list = ['a', 'b', 'c', 'd']\n",
        "\n",
        "# Access the second element (index 1)\n",
        "second_element = my_list[1]\n",
        "\n",
        "# Print the second element\n",
        "print(second_element)\n"
      ],
      "metadata": {
        "colab": {
          "base_uri": "https://localhost:8080/"
        },
        "id": "Jdz68q3yfMyk",
        "outputId": "d75deba0-c28a-48c4-8ea5-f78e79f0f56a"
      },
      "execution_count": 2,
      "outputs": [
        {
          "output_type": "stream",
          "name": "stdout",
          "text": [
            "b\n"
          ]
        }
      ]
    },
    {
      "cell_type": "markdown",
      "source": [
        "10. Write a code to reverse the list [10, 20, 30, 40, 50].\n"
      ],
      "metadata": {
        "id": "b-cGT6KjfYW1"
      }
    },
    {
      "cell_type": "code",
      "source": [
        "# List\n",
        "my_list = [10, 20, 30, 40, 50]\n",
        "\n",
        "# Reverse the list\n",
        "my_list.reverse()\n",
        "\n",
        "# Print the reversed list\n",
        "print(my_list)\n"
      ],
      "metadata": {
        "colab": {
          "base_uri": "https://localhost:8080/"
        },
        "id": "bFBtCiryfc18",
        "outputId": "e0a23793-80d8-4a00-a363-c23ead9b804a"
      },
      "execution_count": 3,
      "outputs": [
        {
          "output_type": "stream",
          "name": "stdout",
          "text": [
            "[50, 40, 30, 20, 10]\n"
          ]
        }
      ]
    },
    {
      "cell_type": "markdown",
      "source": [
        "11. Write a code to create a tuple with the elements 100, 200, 300 and print it."
      ],
      "metadata": {
        "id": "ErmnSTcgfjXr"
      }
    },
    {
      "cell_type": "code",
      "source": [
        "# Create the tuple\n",
        "my_tuple = (100, 200, 300)\n",
        "\n",
        "# Print the tuple\n",
        "print(my_tuple)\n"
      ],
      "metadata": {
        "colab": {
          "base_uri": "https://localhost:8080/"
        },
        "id": "scBz5-ygfpWT",
        "outputId": "e859a226-5dbf-4d9d-9893-5e2e543a6997"
      },
      "execution_count": 4,
      "outputs": [
        {
          "output_type": "stream",
          "name": "stdout",
          "text": [
            "(100, 200, 300)\n"
          ]
        }
      ]
    },
    {
      "cell_type": "markdown",
      "source": [
        "12. Write a code to access the second-to-last element of the tuple ('red', 'green', 'blue', 'yellow')"
      ],
      "metadata": {
        "id": "gI0vL7pqfuBM"
      }
    },
    {
      "cell_type": "code",
      "source": [
        "# Tuple\n",
        "my_tuple = ('red', 'green', 'blue', 'yellow')\n",
        "\n",
        "# Access the second-to-last element using negative indexing\n",
        "second_to_last = my_tuple[-2]\n",
        "\n",
        "# Print the second-to-last element\n",
        "print(second_to_last)\n"
      ],
      "metadata": {
        "colab": {
          "base_uri": "https://localhost:8080/"
        },
        "id": "NJC8D4gkfzLU",
        "outputId": "42758bdd-01f9-478e-be8e-0306f8b555f8"
      },
      "execution_count": 5,
      "outputs": [
        {
          "output_type": "stream",
          "name": "stdout",
          "text": [
            "blue\n"
          ]
        }
      ]
    },
    {
      "cell_type": "markdown",
      "source": [
        "13. Write a code to find the minimum number in the tuple (10, 20, 5, 15)."
      ],
      "metadata": {
        "id": "B3JEIYEbf3Pb"
      }
    },
    {
      "cell_type": "code",
      "source": [
        "# Tuple\n",
        "my_tuple = (10, 20, 5, 15)\n",
        "\n",
        "# Find the minimum number\n",
        "min_number = min(my_tuple)\n",
        "\n",
        "# Print the minimum number\n",
        "print(min_number)\n"
      ],
      "metadata": {
        "colab": {
          "base_uri": "https://localhost:8080/"
        },
        "id": "xA8yjQVVf64j",
        "outputId": "45659270-7a81-46eb-8910-e5d91f6f6529"
      },
      "execution_count": 6,
      "outputs": [
        {
          "output_type": "stream",
          "name": "stdout",
          "text": [
            "5\n"
          ]
        }
      ]
    },
    {
      "cell_type": "markdown",
      "source": [
        "14. Write a code to find the index of the element \"cat\" in the tuple ('dog', 'cat', 'rabbit')."
      ],
      "metadata": {
        "id": "XDoFURpsf-2O"
      }
    },
    {
      "cell_type": "code",
      "source": [
        "# Tuple\n",
        "my_tuple = ('dog', 'cat', 'rabbit')\n",
        "\n",
        "# Find the index of the element \"cat\"\n",
        "index_of_cat = my_tuple.index('cat')\n",
        "\n",
        "# Print the index\n",
        "print(index_of_cat)\n"
      ],
      "metadata": {
        "colab": {
          "base_uri": "https://localhost:8080/"
        },
        "id": "gvxNRe0wgCsL",
        "outputId": "4d75f0a3-f5b2-465a-ab32-7f5e1c3dbba7"
      },
      "execution_count": 7,
      "outputs": [
        {
          "output_type": "stream",
          "name": "stdout",
          "text": [
            "1\n"
          ]
        }
      ]
    },
    {
      "cell_type": "markdown",
      "source": [
        "15.  Write a code to create a tuple containing three different fruits and check if \"kiwi\" is in it."
      ],
      "metadata": {
        "id": "jLXFVzLxgK7D"
      }
    },
    {
      "cell_type": "code",
      "source": [
        "# Create a tuple containing three different fruits\n",
        "fruits_tuple = ('apple', 'banana', 'cherry')\n",
        "\n",
        "# Check if \"kiwi\" is in the tuple\n",
        "is_kiwi_in_tuple = 'kiwi' in fruits_tuple\n",
        "\n",
        "# Print the result\n",
        "print(is_kiwi_in_tuple)\n"
      ],
      "metadata": {
        "colab": {
          "base_uri": "https://localhost:8080/"
        },
        "id": "2T97alPygXdD",
        "outputId": "12e7a3b7-187c-48b3-c1e9-802299db1c94"
      },
      "execution_count": 8,
      "outputs": [
        {
          "output_type": "stream",
          "name": "stdout",
          "text": [
            "False\n"
          ]
        }
      ]
    },
    {
      "cell_type": "markdown",
      "source": [
        "16. Write a code to create a set with the elements 'a', 'b', 'c' and print it.\n",
        "\n"
      ],
      "metadata": {
        "id": "HLQeKbungdec"
      }
    },
    {
      "cell_type": "code",
      "source": [
        "# Create a set with the elements 'a', 'b', 'c'\n",
        "my_set = {'a', 'b', 'c'}\n",
        "\n",
        "# Print the set\n",
        "print(my_set)\n"
      ],
      "metadata": {
        "colab": {
          "base_uri": "https://localhost:8080/"
        },
        "id": "YXQn25wVgiDk",
        "outputId": "3d6eebd6-ca63-4663-9457-071b39f6cd4c"
      },
      "execution_count": 9,
      "outputs": [
        {
          "output_type": "stream",
          "name": "stdout",
          "text": [
            "{'b', 'c', 'a'}\n"
          ]
        }
      ]
    },
    {
      "cell_type": "markdown",
      "source": [
        "17.  Write a code to clear all elements from the set {1, 2, 3, 4, 5}."
      ],
      "metadata": {
        "id": "2ZMTrc37gmWU"
      }
    },
    {
      "cell_type": "code",
      "source": [
        "# Create a set\n",
        "my_set = {1, 2, 3, 4, 5}\n",
        "\n",
        "# Clear all elements from the set\n",
        "my_set.clear()\n",
        "\n",
        "# Print the empty set\n",
        "print(my_set)\n"
      ],
      "metadata": {
        "colab": {
          "base_uri": "https://localhost:8080/"
        },
        "id": "NrNwkT8ugp9k",
        "outputId": "46e54446-5962-44da-ce7d-4fa911479259"
      },
      "execution_count": 10,
      "outputs": [
        {
          "output_type": "stream",
          "name": "stdout",
          "text": [
            "set()\n"
          ]
        }
      ]
    },
    {
      "cell_type": "markdown",
      "source": [
        "18. . Write a code to remove the element 4 from the set {1, 2, 3, 4}."
      ],
      "metadata": {
        "id": "JWUWrrVnguuz"
      }
    },
    {
      "cell_type": "code",
      "source": [
        "# Create a set\n",
        "my_set = {1, 2, 3, 4}\n",
        "\n",
        "# Remove the element 4\n",
        "my_set.remove(4)\n",
        "\n",
        "# Print the modified set\n",
        "print(my_set)\n"
      ],
      "metadata": {
        "colab": {
          "base_uri": "https://localhost:8080/"
        },
        "id": "SPtAUMbcg2wl",
        "outputId": "ab31c27f-6a22-4081-f949-9adb6c632dd1"
      },
      "execution_count": 11,
      "outputs": [
        {
          "output_type": "stream",
          "name": "stdout",
          "text": [
            "{1, 2, 3}\n"
          ]
        }
      ]
    },
    {
      "cell_type": "markdown",
      "source": [
        "19.  Write a code to find the union of two sets {1, 2, 3} and {3, 4, 5}."
      ],
      "metadata": {
        "id": "gwTKdlIVg8vz"
      }
    },
    {
      "cell_type": "code",
      "source": [
        "# Create two sets\n",
        "set1 = {1, 2, 3}\n",
        "set2 = {3, 4, 5}\n",
        "\n",
        "# Find the union of the two sets\n",
        "union_set = set1.union(set2)\n",
        "\n",
        "# Print the union of the sets\n",
        "print(union_set)\n"
      ],
      "metadata": {
        "colab": {
          "base_uri": "https://localhost:8080/"
        },
        "id": "lZZrti0NhAWe",
        "outputId": "eabdfdde-6d0e-4e4c-84ff-4c8fe29d877b"
      },
      "execution_count": 12,
      "outputs": [
        {
          "output_type": "stream",
          "name": "stdout",
          "text": [
            "{1, 2, 3, 4, 5}\n"
          ]
        }
      ]
    },
    {
      "cell_type": "markdown",
      "source": [
        "20. Write a code to find the intersection of two sets {1, 2, 3} and {2, 3, 4}."
      ],
      "metadata": {
        "id": "yzCVgaZuhGNb"
      }
    },
    {
      "cell_type": "code",
      "source": [
        "# Create two sets\n",
        "set1 = {1, 2, 3}\n",
        "set2 = {2, 3, 4}\n",
        "\n",
        "# Find the intersection of the two sets\n",
        "intersection_set = set1.intersection(set2)\n",
        "\n",
        "# Print the intersection of the sets\n",
        "print(intersection_set)\n"
      ],
      "metadata": {
        "colab": {
          "base_uri": "https://localhost:8080/"
        },
        "id": "HtRG6eNlhNVq",
        "outputId": "ccf37fda-2866-41d9-caf2-b0261b38ae82"
      },
      "execution_count": 13,
      "outputs": [
        {
          "output_type": "stream",
          "name": "stdout",
          "text": [
            "{2, 3}\n"
          ]
        }
      ]
    },
    {
      "cell_type": "markdown",
      "source": [
        "21. Write a code to create a dictionary with the keys \"name\", \"age\", and \"city\", and print it.\n"
      ],
      "metadata": {
        "id": "Ybdhd71MhRqT"
      }
    },
    {
      "cell_type": "code",
      "source": [
        "# Create a dictionary with keys \"name\", \"age\", and \"city\"\n",
        "my_dict = {\n",
        "    \"name\": \"mukul\",\n",
        "    \"age\": 25,\n",
        "    \"city\": \"delhi\"\n",
        "}\n",
        "\n",
        "# Print the dictionary\n",
        "print(my_dict)\n"
      ],
      "metadata": {
        "colab": {
          "base_uri": "https://localhost:8080/"
        },
        "id": "zffeD0KfhZgr",
        "outputId": "2dcebfe0-577c-4482-84f0-c0b40fc08f23"
      },
      "execution_count": 14,
      "outputs": [
        {
          "output_type": "stream",
          "name": "stdout",
          "text": [
            "{'name': 'mukul', 'age': 25, 'city': 'delhi'}\n"
          ]
        }
      ]
    },
    {
      "cell_type": "markdown",
      "source": [
        "22.  Write a code to add a new key-value pair \"country\": \"USA\" to the dictionary {'name': 'John', 'age': 25}."
      ],
      "metadata": {
        "id": "AH5HlFglhlfV"
      }
    },
    {
      "cell_type": "code",
      "source": [
        "# Existing dictionary\n",
        "my_dict = {'name': 'John', 'age': 25}\n",
        "\n",
        "# Add the new key-value pair\n",
        "my_dict['country'] = 'USA'\n",
        "\n",
        "# Print the updated dictionary\n",
        "print(my_dict)\n"
      ],
      "metadata": {
        "colab": {
          "base_uri": "https://localhost:8080/"
        },
        "id": "AJiZd59Tho2j",
        "outputId": "3e1857a2-328f-44dc-de88-505dc150b9e7"
      },
      "execution_count": 15,
      "outputs": [
        {
          "output_type": "stream",
          "name": "stdout",
          "text": [
            "{'name': 'John', 'age': 25, 'country': 'USA'}\n"
          ]
        }
      ]
    },
    {
      "cell_type": "markdown",
      "source": [
        "23. Write a code to access the value associated with the key \"name\" in the dictionary {'name': 'Alice', 'age': 30}."
      ],
      "metadata": {
        "id": "fCZ4ldAehuWT"
      }
    },
    {
      "cell_type": "code",
      "source": [
        "# Dictionary\n",
        "my_dict = {'name': 'Alice', 'age': 30}\n",
        "\n",
        "# Access the value associated with the key \"name\"\n",
        "name_value = my_dict['name']\n",
        "\n",
        "# Print the value\n",
        "print(name_value)\n"
      ],
      "metadata": {
        "colab": {
          "base_uri": "https://localhost:8080/"
        },
        "id": "rmyNojXEhyYK",
        "outputId": "3dd4d271-cbcf-467c-f9cd-ecf51c111371"
      },
      "execution_count": 16,
      "outputs": [
        {
          "output_type": "stream",
          "name": "stdout",
          "text": [
            "Alice\n"
          ]
        }
      ]
    },
    {
      "cell_type": "markdown",
      "source": [
        "24.  Write a code to remove the key \"age\" from the dictionary {'name': 'Bob', 'age': 22, 'city': 'New York'}."
      ],
      "metadata": {
        "id": "tOzQVhwNh1lS"
      }
    },
    {
      "cell_type": "code",
      "source": [
        "# Dictionary\n",
        "my_dict = {'name': 'Bob', 'age': 22, 'city': 'New York'}\n",
        "\n",
        "# Remove the key \"age\"\n",
        "del my_dict['age']\n",
        "\n",
        "# Print the updated dictionary\n",
        "print(my_dict)\n"
      ],
      "metadata": {
        "colab": {
          "base_uri": "https://localhost:8080/"
        },
        "id": "ZHPkdZjfh6Va",
        "outputId": "580cc87a-816a-444f-cb97-ff8a4df28d43"
      },
      "execution_count": 17,
      "outputs": [
        {
          "output_type": "stream",
          "name": "stdout",
          "text": [
            "{'name': 'Bob', 'city': 'New York'}\n"
          ]
        }
      ]
    },
    {
      "cell_type": "markdown",
      "source": [
        "25.  Write a code to check if the key \"city\" exists in the dictionary {'name': 'Alice', 'city': 'Paris'}."
      ],
      "metadata": {
        "id": "PVURFyX5iBtE"
      }
    },
    {
      "cell_type": "code",
      "source": [
        "# Dictionary\n",
        "my_dict = {'name': 'Alice', 'city': 'Paris'}\n",
        "\n",
        "# Check if the key \"city\" exists in the dictionary\n",
        "key_exists = 'city' in my_dict\n",
        "\n",
        "# Print the result\n",
        "print(key_exists)\n"
      ],
      "metadata": {
        "colab": {
          "base_uri": "https://localhost:8080/"
        },
        "id": "q-BtLeUdiFwr",
        "outputId": "f2d992be-c93b-48d8-aa01-7518473e053f"
      },
      "execution_count": 18,
      "outputs": [
        {
          "output_type": "stream",
          "name": "stdout",
          "text": [
            "True\n"
          ]
        }
      ]
    },
    {
      "cell_type": "markdown",
      "source": [
        "26. Write a code to create a list, a tuple, and a dictionary, and print them all."
      ],
      "metadata": {
        "id": "H1MzkszeiKE7"
      }
    },
    {
      "cell_type": "code",
      "source": [
        "# Create a list\n",
        "my_list = [1, 2, 3, 4, 5]\n",
        "\n",
        "# Create a tuple\n",
        "my_tuple = ('apple', 'banana', 'cherry')\n",
        "\n",
        "# Create a dictionary\n",
        "my_dict = {'name': 'Alice', 'age': 30, 'city': 'Paris'}\n",
        "\n",
        "# Print the list, tuple, and dictionary\n",
        "print(\"List:\", my_list)\n",
        "print(\"Tuple:\", my_tuple)\n",
        "print(\"Dictionary:\", my_dict)\n"
      ],
      "metadata": {
        "colab": {
          "base_uri": "https://localhost:8080/"
        },
        "id": "3qEVDZS0iOaD",
        "outputId": "9992c5f6-e9c5-4829-d359-8869a6fa5b0c"
      },
      "execution_count": 19,
      "outputs": [
        {
          "output_type": "stream",
          "name": "stdout",
          "text": [
            "List: [1, 2, 3, 4, 5]\n",
            "Tuple: ('apple', 'banana', 'cherry')\n",
            "Dictionary: {'name': 'Alice', 'age': 30, 'city': 'Paris'}\n"
          ]
        }
      ]
    },
    {
      "cell_type": "markdown",
      "source": [
        "27.  Write a code to create a list of 5 random numbers between 1 and 100, sort it in ascending order, and print the\n",
        "result.(replaced)"
      ],
      "metadata": {
        "id": "DGaUWFTmiS8E"
      }
    },
    {
      "cell_type": "code",
      "source": [
        "import random\n",
        "\n",
        "# Create a list of 5 random numbers between 1 and 100\n",
        "random_numbers = [random.randint(1, 100) for _ in range(5)]\n",
        "\n",
        "# Sort the list in ascending order\n",
        "random_numbers.sort()\n",
        "\n",
        "# Print the sorted list\n",
        "print(random_numbers)\n"
      ],
      "metadata": {
        "colab": {
          "base_uri": "https://localhost:8080/"
        },
        "id": "bitzWKMPiXyG",
        "outputId": "111b8998-1f66-41c1-8da6-f0beac45a4be"
      },
      "execution_count": 20,
      "outputs": [
        {
          "output_type": "stream",
          "name": "stdout",
          "text": [
            "[15, 29, 55, 55, 71]\n"
          ]
        }
      ]
    },
    {
      "cell_type": "markdown",
      "source": [
        "28.  Write a code to create a list with strings and print the element at the third index."
      ],
      "metadata": {
        "id": "yjFGSRgHifMU"
      }
    },
    {
      "cell_type": "code",
      "source": [
        "# Create a list with strings\n",
        "my_list = [\"apple\", \"banana\", \"cherry\", \"date\", \"elderberry\"]\n",
        "\n",
        "# Print the element at the third index (4th element)\n",
        "print(my_list[3])\n"
      ],
      "metadata": {
        "colab": {
          "base_uri": "https://localhost:8080/"
        },
        "id": "52GRGT5eiiVj",
        "outputId": "17a8f554-cb99-40cd-dcc6-6bde997ee3a9"
      },
      "execution_count": 21,
      "outputs": [
        {
          "output_type": "stream",
          "name": "stdout",
          "text": [
            "date\n"
          ]
        }
      ]
    },
    {
      "cell_type": "markdown",
      "source": [
        "29.  Write a code to combine two dictionaries into one and print the result."
      ],
      "metadata": {
        "id": "_oI3r-XLi6S6"
      }
    },
    {
      "cell_type": "code",
      "source": [
        "# Create two dictionaries\n",
        "dict1 = {'name': 'Alice', 'age': 25}\n",
        "dict2 = {'city': 'Paris', 'job': 'Engineer'}\n",
        "\n",
        "# Combine the two dictionaries using update()\n",
        "dict1.update(dict2)\n",
        "\n",
        "# Print the combined dictionary\n",
        "print(dict1)\n"
      ],
      "metadata": {
        "colab": {
          "base_uri": "https://localhost:8080/"
        },
        "id": "uIzzum4Ii9wT",
        "outputId": "a37f574e-9dab-48eb-b0bb-9ab2ccf8cecd"
      },
      "execution_count": 22,
      "outputs": [
        {
          "output_type": "stream",
          "name": "stdout",
          "text": [
            "{'name': 'Alice', 'age': 25, 'city': 'Paris', 'job': 'Engineer'}\n"
          ]
        }
      ]
    },
    {
      "cell_type": "markdown",
      "source": [
        "30.  Write a code to convert a list of strings into a set."
      ],
      "metadata": {
        "id": "ZPxCgc35jC_D"
      }
    },
    {
      "cell_type": "code",
      "source": [
        "# Create a list of strings\n",
        "my_list = [\"apple\", \"banana\", \"cherry\", \"apple\", \"date\"]\n",
        "\n",
        "# Convert the list to a set\n",
        "my_set = set(my_list)\n",
        "\n",
        "# Print the set\n",
        "print(my_set)\n"
      ],
      "metadata": {
        "colab": {
          "base_uri": "https://localhost:8080/"
        },
        "id": "SgoRWLDijNbr",
        "outputId": "69ed3538-8cb9-45ee-b308-d6fee7529502"
      },
      "execution_count": 23,
      "outputs": [
        {
          "output_type": "stream",
          "name": "stdout",
          "text": [
            "{'date', 'cherry', 'banana', 'apple'}\n"
          ]
        }
      ]
    }
  ]
}